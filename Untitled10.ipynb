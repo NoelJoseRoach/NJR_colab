{
  "nbformat": 4,
  "nbformat_minor": 0,
  "metadata": {
    "colab": {
      "provenance": [],
      "authorship_tag": "ABX9TyNscUvx/oy3gujUqQEvKY2s",
      "include_colab_link": true
    },
    "kernelspec": {
      "name": "python3",
      "display_name": "Python 3"
    },
    "language_info": {
      "name": "python"
    }
  },
  "cells": [
    {
      "cell_type": "markdown",
      "metadata": {
        "id": "view-in-github",
        "colab_type": "text"
      },
      "source": [
        "<a href=\"https://colab.research.google.com/github/NoelJoseRoach/NJR_colab/blob/main/Untitled10.ipynb\" target=\"_parent\"><img src=\"https://colab.research.google.com/assets/colab-badge.svg\" alt=\"Open In Colab\"/></a>"
      ]
    },
    {
      "cell_type": "code",
      "execution_count": 21,
      "metadata": {
        "id": "t3JSkZegSnI6",
        "colab": {
          "base_uri": "https://localhost:8080/"
        },
        "outputId": "da6e49be-1857-4156-87e4-e042511fb0a0"
      },
      "outputs": [
        {
          "name": "stdout",
          "output_type": "stream",
          "text": [
            "Enter your Salary50000\n",
            "Enter HRA amount100000\n",
            "Enter your Rent15000\n"
          ]
        }
      ],
      "source": [
        "x=int(input(\"Enter your Salary\"))\n",
        "y=int(input(\"Enter HRA amount\"))\n",
        "z=int(input(\"Enter your Rent\"))\n",
        "\n",
        "v=z*12-(x*12)*10/100\n",
        "b=x*12*50/100"
      ]
    },
    {
      "cell_type": "code",
      "source": [
        "print(\"Actual Rent:\", v)"
      ],
      "metadata": {
        "colab": {
          "base_uri": "https://localhost:8080/"
        },
        "id": "6XafQWBwV5de",
        "outputId": "a8ca201b-5249-4b04-ffa9-bd3eaf21bd00"
      },
      "execution_count": 22,
      "outputs": [
        {
          "output_type": "stream",
          "name": "stdout",
          "text": [
            "Actual Rent: 120000.0\n"
          ]
        }
      ]
    },
    {
      "cell_type": "code",
      "source": [
        "print(b)"
      ],
      "metadata": {
        "colab": {
          "base_uri": "https://localhost:8080/"
        },
        "id": "MSfGkA9NWFwp",
        "outputId": "703a0835-5471-4f8b-f901-f073c15ea496"
      },
      "execution_count": 23,
      "outputs": [
        {
          "output_type": "stream",
          "name": "stdout",
          "text": [
            "300000.0\n"
          ]
        }
      ]
    },
    {
      "cell_type": "code",
      "source": [
        "if b>v and y>v :\n",
        "  print(\"Tax is exempted:\",v)\n",
        "  e=x*12+y-v\n",
        "  print(\"Salary is :\",e)\n",
        "if v>b and y>b :\n",
        "  print(\"Tax is exempted:\",b)\n",
        "  w=x*12+y-b\n",
        "  print(\"Salary is :\",w)\n",
        "if b>y and v>y :\n",
        "  print(\"Tax is exempted:\",y)  \n",
        "  q=x*12+y-y\n",
        "  print(\"Salary is :\",q)   "
      ],
      "metadata": {
        "colab": {
          "base_uri": "https://localhost:8080/"
        },
        "id": "jhk-Em8QWGfh",
        "outputId": "2616b126-ce12-4c82-f736-348c8b73b966"
      },
      "execution_count": 39,
      "outputs": [
        {
          "output_type": "stream",
          "name": "stdout",
          "text": [
            "Tax is exempted: 100000\n",
            "Salary is : 13200000\n"
          ]
        }
      ]
    },
    {
      "cell_type": "code",
      "source": [
        "\n",
        "x=int(input(\"Enter your Salary\"))\n",
        "y=int(input(\"Enter HRA amount\"))\n",
        "z=int(input(\"Enter your Rent\"))\n",
        "\n",
        "v=z*12-(x*12)*10/100\n",
        "b=x*12*50/100 \n",
        "e=x*12+y-v\n",
        "w=x*12+y-b\n",
        "q=x*12+y-y\n",
        "t=[e,w,q]\n",
        "h=min(t)\n",
        "p=x*12+y-h\n",
        "if x<=250000 :\n",
        "\n",
        "  print(\"NO tax\")\n",
        "  print(h)\n",
        "if p<=500000 and p>250000 :\n",
        "  s=x-250000*30/100\n",
        "  print(\"Taxable\")\n",
        "  print((x-250000)*5/100)\n",
        "  print(h)\n",
        "if p<=750000 and p>500000:\n",
        "  s=x-500000*30/100\n",
        "  j=500000-250000*5/100\n",
        "  print(\"Taxable\")\n",
        "  print((500000-250000)*(5/100)+j)\n",
        "  print(h)\n",
        "  t\n",
        "if p<=100000 and p>750000:\n",
        "  s=x-750000*30/100\n",
        "  h=750000-500000*10/100\n",
        "  j=500000-250000*5/100\n",
        "  print(\"Taxable\")\n",
        "  print((500000-250000)*(5/100)+h+j)\n",
        "  print(h)\n",
        "if p<1250000 and p>1000000:\n",
        "  s=x-1000000*30/100\n",
        "  g=1000000-750000*15/100\n",
        "  h=750000-500000*10/100\n",
        "  j=500000-250000*5/100\n",
        "  print(\"Taxable\")\n",
        "  print((500000-250000)*(5/100)+g+h+j)\n",
        "  print(h)\n",
        "if p<1500000 and p>1250000:\n",
        "  s=x-1250000*30/100\n",
        "  f=1250000-1000000*20/100\n",
        "  g=1000000-750000*15/100\n",
        "  h=750000-500000*10/100\n",
        "  j=500000-250000*5/100\n",
        "  print(\"Taxable\")\n",
        "  print((500000-250000)*(5/100)+f+g+h+j) \n",
        "  print(h)\n",
        "if p>1500000 :\n",
        "  s=x-1500000*30/100\n",
        "  d=1500000-1250000*25/100\n",
        "  f=1250000-1000000*20/100\n",
        "  g=1000000-750000*15/100\n",
        "  h=750000-500000*10/100\n",
        "  j=500000-250000*5/100\n",
        "  print(\"Taxable\")\n",
        "  print((500000-250000)*(5/100)+d+f+g+h+j)\n",
        "  print(h)"
      ],
      "metadata": {
        "colab": {
          "base_uri": "https://localhost:8080/"
        },
        "id": "_6IQa7jxaeGX",
        "outputId": "ba469f95-bd8e-492a-a603-b8173931e90d"
      },
      "execution_count": 45,
      "outputs": [
        {
          "output_type": "stream",
          "name": "stdout",
          "text": [
            "Enter your Salary600000\n",
            "Enter HRA amount100000\n",
            "Enter your Rent15000\n",
            "Taxable\n",
            "4325000.0\n",
            "700000.0\n"
          ]
        }
      ]
    },
    {
      "cell_type": "code",
      "source": [],
      "metadata": {
        "id": "ZfxN32N3hh1E"
      },
      "execution_count": 43,
      "outputs": []
    }
  ]
}