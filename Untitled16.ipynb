{
  "nbformat": 4,
  "nbformat_minor": 0,
  "metadata": {
    "colab": {
      "provenance": [],
      "authorship_tag": "ABX9TyNAlRChT/bJ9K2N5LfZ37Q9",
      "include_colab_link": true
    },
    "kernelspec": {
      "name": "python3",
      "display_name": "Python 3"
    },
    "language_info": {
      "name": "python"
    }
  },
  "cells": [
    {
      "cell_type": "markdown",
      "metadata": {
        "id": "view-in-github",
        "colab_type": "text"
      },
      "source": [
        "<a href=\"https://colab.research.google.com/github/NoelJoseRoach/NJR_colab/blob/main/Untitled16.ipynb\" target=\"_parent\"><img src=\"https://colab.research.google.com/assets/colab-badge.svg\" alt=\"Open In Colab\"/></a>"
      ]
    },
    {
      "cell_type": "code",
      "execution_count": 2,
      "metadata": {
        "id": "SaCYaM4ocDUB"
      },
      "outputs": [],
      "source": [
        "x=[1,2,3,4,5,6,7,8,9]\n",
        "def list(x):\n",
        "  print(x)\n",
        "  "
      ]
    },
    {
      "cell_type": "code",
      "source": [
        "sum(x)"
      ],
      "metadata": {
        "colab": {
          "base_uri": "https://localhost:8080/"
        },
        "id": "oYPy2VgwcbVk",
        "outputId": "3cab1df9-7855-4f57-c430-24c98c381221"
      },
      "execution_count": 3,
      "outputs": [
        {
          "output_type": "execute_result",
          "data": {
            "text/plain": [
              "45"
            ]
          },
          "metadata": {},
          "execution_count": 3
        }
      ]
    },
    {
      "cell_type": "code",
      "source": [
        "x=[1,2,3,4,5,6,7,8,9]\n",
        "def ABC(x):\n",
        "  for i in x:\n",
        "    if i%2==0:\n",
        "      print(\"Even Number\",i)\n",
        "      \n"
      ],
      "metadata": {
        "id": "vjUXuMrkcieO"
      },
      "execution_count": 24,
      "outputs": []
    },
    {
      "cell_type": "code",
      "source": [
        "ABC(x)"
      ],
      "metadata": {
        "colab": {
          "base_uri": "https://localhost:8080/"
        },
        "id": "0IsFbabOeBd6",
        "outputId": "074d26dd-d2bd-408a-8a13-ca2b1079a705"
      },
      "execution_count": 25,
      "outputs": [
        {
          "output_type": "stream",
          "name": "stdout",
          "text": [
            "Even Number 2\n",
            "Even Number 4\n",
            "Even Number 6\n",
            "Even Number 8\n"
          ]
        }
      ]
    },
    {
      "cell_type": "code",
      "source": [
        "x=[1,2,3,4,5,6,7,8,9]\n",
        "def ABC(x):\n",
        "  for i in x:\n",
        "    if i%2==1:\n",
        "      print(\"Odd Number\",i)"
      ],
      "metadata": {
        "id": "0Cl07hzweFVf"
      },
      "execution_count": 28,
      "outputs": []
    },
    {
      "cell_type": "code",
      "source": [
        "ABC(x)"
      ],
      "metadata": {
        "colab": {
          "base_uri": "https://localhost:8080/"
        },
        "id": "2IFFV-kwerBR",
        "outputId": "9f7a70fd-2abb-4011-b4c7-2ef20adce9fa"
      },
      "execution_count": 29,
      "outputs": [
        {
          "output_type": "stream",
          "name": "stdout",
          "text": [
            "Odd Number 1\n",
            "Odd Number 3\n",
            "Odd Number 5\n",
            "Odd Number 7\n",
            "Odd Number 9\n"
          ]
        }
      ]
    },
    {
      "cell_type": "code",
      "source": [
        "string=input(\"Enter String:\")\n",
        "vowels=0\n",
        "for i in string:\n",
        "  if(i=='a' or i=='e' or i=='i' or i=='o' or i=='u' or i=='A' or i=='E' or i=='I' or i=='O' or i=='U'):\n",
        "    vowels=vowels+1\n",
        "    print(\"Number of vowels are:\",i)\n",
        "    "
      ],
      "metadata": {
        "colab": {
          "base_uri": "https://localhost:8080/"
        },
        "id": "sdjrUkoMj2YS",
        "outputId": "7f6b9474-6e64-45fe-d333-c6f9926bf42e"
      },
      "execution_count": 55,
      "outputs": [
        {
          "output_type": "stream",
          "name": "stdout",
          "text": [
            "Enter String:Python is a high-level, general-purpose programming language\n",
            "Number of vowels are: o\n",
            "Number of vowels are: i\n",
            "Number of vowels are: a\n",
            "Number of vowels are: i\n",
            "Number of vowels are: e\n",
            "Number of vowels are: e\n",
            "Number of vowels are: e\n",
            "Number of vowels are: e\n",
            "Number of vowels are: a\n",
            "Number of vowels are: u\n",
            "Number of vowels are: o\n",
            "Number of vowels are: e\n",
            "Number of vowels are: o\n",
            "Number of vowels are: a\n",
            "Number of vowels are: i\n",
            "Number of vowels are: a\n",
            "Number of vowels are: u\n",
            "Number of vowels are: a\n",
            "Number of vowels are: e\n"
          ]
        }
      ]
    },
    {
      "cell_type": "code",
      "source": [
        "z=(\"Python is a high-level, general-purpose programming language\")\n",
        "def pyt():\n",
        "  a=z.replace(\"a\",\"\")\n",
        "  b=a.replace(\"e\",\"\")\n",
        "  c=b.replace(\"i\",\"\")\n",
        "  d=c.replace(\"o\",\"\")\n",
        "  e=d.replace(\"u\",\"\")\n",
        "  print(e)\n",
        "    \n",
        "    "
      ],
      "metadata": {
        "id": "P9lId8W_lXpH"
      },
      "execution_count": 79,
      "outputs": []
    },
    {
      "cell_type": "code",
      "source": [
        "pyt()"
      ],
      "metadata": {
        "colab": {
          "base_uri": "https://localhost:8080/"
        },
        "id": "q2eJqAAqnuj9",
        "outputId": "367b29a7-58a2-4c45-c3ed-c1c20b29f9af"
      },
      "execution_count": 80,
      "outputs": [
        {
          "output_type": "stream",
          "name": "stdout",
          "text": [
            "Pythn s  hgh-lvl, gnrl-prps prgrmmng lngg\n"
          ]
        }
      ]
    },
    {
      "cell_type": "code",
      "source": [],
      "metadata": {
        "id": "SYSj3GSRo1-x"
      },
      "execution_count": null,
      "outputs": []
    }
  ]
}