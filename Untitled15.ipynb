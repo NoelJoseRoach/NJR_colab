{
  "nbformat": 4,
  "nbformat_minor": 0,
  "metadata": {
    "colab": {
      "provenance": [],
      "authorship_tag": "ABX9TyPPQ0m4YjHJcfQhvykJzZyx",
      "include_colab_link": true
    },
    "kernelspec": {
      "name": "python3",
      "display_name": "Python 3"
    },
    "language_info": {
      "name": "python"
    }
  },
  "cells": [
    {
      "cell_type": "markdown",
      "metadata": {
        "id": "view-in-github",
        "colab_type": "text"
      },
      "source": [
        "<a href=\"https://colab.research.google.com/github/NoelJoseRoach/NJR_colab/blob/main/Untitled15.ipynb\" target=\"_parent\"><img src=\"https://colab.research.google.com/assets/colab-badge.svg\" alt=\"Open In Colab\"/></a>"
      ]
    },
    {
      "cell_type": "code",
      "execution_count": null,
      "metadata": {
        "colab": {
          "base_uri": "https://localhost:8080/"
        },
        "id": "C6DlhLpRxNui",
        "outputId": "172bb202-2f4c-4aa4-cbba-5f4ccc52a341"
      },
      "outputs": [
        {
          "output_type": "stream",
          "name": "stdout",
          "text": [
            "This is \"Python\" programming\n"
          ]
        }
      ],
      "source": [
        "x=\"This is \\\"Python\\\" programming\"\n",
        "print(x)"
      ]
    },
    {
      "cell_type": "code",
      "source": [
        "x='He\\'s a doctor'\n",
        "print(x)"
      ],
      "metadata": {
        "colab": {
          "base_uri": "https://localhost:8080/"
        },
        "id": "55IbOMkSxjW_",
        "outputId": "0d080a42-b319-4ff1-b699-8c58b22ea6cc"
      },
      "execution_count": null,
      "outputs": [
        {
          "output_type": "stream",
          "name": "stdout",
          "text": [
            "He's a doctor\n"
          ]
        }
      ]
    },
    {
      "cell_type": "code",
      "source": [
        "x=\"Hello\\nWorld!\"\n",
        "print(x)"
      ],
      "metadata": {
        "colab": {
          "base_uri": "https://localhost:8080/"
        },
        "id": "PKiSJ3R-x9KF",
        "outputId": "af20e68e-6c8e-4736-a44b-a8f756d86e06"
      },
      "execution_count": null,
      "outputs": [
        {
          "output_type": "stream",
          "name": "stdout",
          "text": [
            "Hello\n",
            "World!\n"
          ]
        }
      ]
    },
    {
      "cell_type": "code",
      "source": [
        "x=\"Hello\\tWorld!\"\n",
        "print(x)"
      ],
      "metadata": {
        "colab": {
          "base_uri": "https://localhost:8080/"
        },
        "id": "2HiDtQaJyPmW",
        "outputId": "1c87772d-bfda-4643-c921-f671aef214bf"
      },
      "execution_count": null,
      "outputs": [
        {
          "output_type": "stream",
          "name": "stdout",
          "text": [
            "Hello\tWorld!\n"
          ]
        }
      ]
    },
    {
      "cell_type": "code",
      "source": [
        "x=(\"\\\"Noel\\\"Jose Roach\")\n",
        "print(x)"
      ],
      "metadata": {
        "colab": {
          "base_uri": "https://localhost:8080/"
        },
        "id": "HAdR8E9DygbI",
        "outputId": "38075cbe-9a6a-43c2-9e1d-a3c8baeb0ad5"
      },
      "execution_count": null,
      "outputs": [
        {
          "output_type": "stream",
          "name": "stdout",
          "text": [
            "\"Noel\"Jose Roach\n"
          ]
        }
      ]
    },
    {
      "cell_type": "code",
      "source": [
        "print(\"He is  A \\n  Doctor\")"
      ],
      "metadata": {
        "colab": {
          "base_uri": "https://localhost:8080/"
        },
        "id": "4uvMFhCZzv7m",
        "outputId": "2739b362-524e-4cd9-c42d-9a19bdd93a9f"
      },
      "execution_count": null,
      "outputs": [
        {
          "output_type": "stream",
          "name": "stdout",
          "text": [
            "He is  A \n",
            "  Doctor\n"
          ]
        }
      ]
    },
    {
      "cell_type": "code",
      "source": [
        "print(\"Noel \\n Jose Roach\")"
      ],
      "metadata": {
        "colab": {
          "base_uri": "https://localhost:8080/"
        },
        "id": "fAKiIvYL1BwB",
        "outputId": "0270bf39-d566-477f-8455-d638d768b751"
      },
      "execution_count": null,
      "outputs": [
        {
          "output_type": "stream",
          "name": "stdout",
          "text": [
            "Noel \n",
            " Jose Roach\n"
          ]
        }
      ]
    },
    {
      "cell_type": "code",
      "source": [
        "x=[\"John\",\"Mary\",\"David\",\"Adam\"]\n",
        "x.insert(2,\"James\")\n",
        "print(x)\n"
      ],
      "metadata": {
        "colab": {
          "base_uri": "https://localhost:8080/"
        },
        "id": "o2PjT5Aa1LPw",
        "outputId": "935aae4c-36a6-423d-d621-070cb4f7c243"
      },
      "execution_count": null,
      "outputs": [
        {
          "output_type": "stream",
          "name": "stdout",
          "text": [
            "['John', 'Mary', 'James', 'David', 'Adam']\n"
          ]
        }
      ]
    },
    {
      "cell_type": "code",
      "source": [
        "x=[\"A\",\"B\",\"D\",\"C\"]\n",
        "y=int(input(\"Enter Index\"))\n",
        "n=input(\"Enter Data\")\n",
        "x.insert(y,n)\n",
        "print(x)\n",
        "\n"
      ],
      "metadata": {
        "colab": {
          "base_uri": "https://localhost:8080/"
        },
        "id": "RHBCmx2p17Ey",
        "outputId": "3977988b-0e6c-443f-956c-67d3367a291b"
      },
      "execution_count": null,
      "outputs": [
        {
          "output_type": "stream",
          "name": "stdout",
          "text": [
            "Enter Index2\n",
            "Enter DataE\n",
            "['A', 'B', 'E', 'D', 'C']\n"
          ]
        }
      ]
    },
    {
      "cell_type": "code",
      "source": [
        "def Noel():\n",
        "  y=int(input(\"enter index\"))\n",
        "  n=input(\"enter a name\")\n",
        "  x.insert(y,n)\n",
        "  print(x)"
      ],
      "metadata": {
        "id": "z387ABqy4-U8"
      },
      "execution_count": null,
      "outputs": []
    },
    {
      "cell_type": "code",
      "source": [
        "Noel()"
      ],
      "metadata": {
        "colab": {
          "base_uri": "https://localhost:8080/"
        },
        "id": "PSWjIP0z-JfP",
        "outputId": "2b30e99e-c0f8-410d-ba91-cd4185f570bf"
      },
      "execution_count": null,
      "outputs": [
        {
          "output_type": "stream",
          "name": "stdout",
          "text": [
            "enter index2\n",
            "enter a nameJR\n",
            "['A', 'B', 'JR', 'Habeeb', 'E', 'D', 'C']\n"
          ]
        }
      ]
    },
    {
      "cell_type": "code",
      "source": [
        "def nig():\n",
        "  x=int(input(\"Enter Num\"))\n",
        "  y=int(input(\"Enter 2nd Num\"))\n",
        "  z=x+y\n",
        "  c=x-y\n",
        "  v=x*y\n",
        "  b=x/y\n",
        "  print(z)\n",
        "  print(c)\n",
        "  print(v)\n",
        "  print(b)\n"
      ],
      "metadata": {
        "id": "zkPhZ2gu-hMt"
      },
      "execution_count": null,
      "outputs": []
    },
    {
      "cell_type": "code",
      "source": [
        "nig()"
      ],
      "metadata": {
        "colab": {
          "base_uri": "https://localhost:8080/"
        },
        "id": "xSntu9h8_fdv",
        "outputId": "b0f4abc0-be43-4ec6-91f2-a7b4a04becd6"
      },
      "execution_count": null,
      "outputs": [
        {
          "output_type": "stream",
          "name": "stdout",
          "text": [
            "Enter Num5\n",
            "Enter 2nd Num2\n",
            "7\n",
            "3\n",
            "10\n",
            "2.5\n"
          ]
        }
      ]
    },
    {
      "cell_type": "code",
      "source": [
        "def nig(a,b):\n",
        "  print(a+b)"
      ],
      "metadata": {
        "id": "L2VvcK17_iuu"
      },
      "execution_count": null,
      "outputs": []
    },
    {
      "cell_type": "code",
      "source": [
        "x=int(input(\"Enter Num\"))\n",
        "y=int(input(\"Enter 2nd Num\"))\n",
        "nig(x,y)\n"
      ],
      "metadata": {
        "colab": {
          "base_uri": "https://localhost:8080/"
        },
        "id": "ebiHQGdqEamw",
        "outputId": "c35e51f7-6b9b-463f-a57f-7fb1bfa4982f"
      },
      "execution_count": null,
      "outputs": [
        {
          "output_type": "stream",
          "name": "stdout",
          "text": [
            "Enter Num10\n",
            "Enter 2nd Num5\n",
            "15\n"
          ]
        }
      ]
    },
    {
      "cell_type": "code",
      "source": [
        "def add(a,b):\n",
        "  print(a+b)\n",
        "def subtract(a,b):\n",
        "  print(a-b)\n",
        "def Multiply(a,b):\n",
        "  print(a*b)\n",
        "def divide(a,b):\n",
        "  print(a/b)      "
      ],
      "metadata": {
        "id": "MqkUmBHjEmtM"
      },
      "execution_count": null,
      "outputs": []
    },
    {
      "cell_type": "code",
      "source": [
        "x=int(input(\"Enter Num\"))\n",
        "y=int(input(\"Enter 2nd Num\"))\n",
        "add(x,y)\n",
        "subtract(x,y)\n",
        "Multiply(x,y)\n",
        "divide(x,y\n",
        "       )"
      ],
      "metadata": {
        "colab": {
          "base_uri": "https://localhost:8080/"
        },
        "id": "Lozh0NW8HMmj",
        "outputId": "f1598ebd-1d02-44b9-a710-30bf76674238"
      },
      "execution_count": null,
      "outputs": [
        {
          "output_type": "stream",
          "name": "stdout",
          "text": [
            "Enter Num10\n",
            "Enter 2nd Num5\n",
            "15\n",
            "5\n"
          ]
        }
      ]
    },
    {
      "cell_type": "code",
      "source": [],
      "metadata": {
        "id": "v-aTjrk2HT2C"
      },
      "execution_count": null,
      "outputs": []
    }
  ]
}