{
  "nbformat": 4,
  "nbformat_minor": 0,
  "metadata": {
    "colab": {
      "provenance": [],
      "authorship_tag": "ABX9TyO0oM//cRZ0/qojIyMWZXcT",
      "include_colab_link": true
    },
    "kernelspec": {
      "name": "python3",
      "display_name": "Python 3"
    },
    "language_info": {
      "name": "python"
    }
  },
  "cells": [
    {
      "cell_type": "markdown",
      "metadata": {
        "id": "view-in-github",
        "colab_type": "text"
      },
      "source": [
        "<a href=\"https://colab.research.google.com/github/NoelJoseRoach/NJR_colab/blob/main/Untitled9.ipynb\" target=\"_parent\"><img src=\"https://colab.research.google.com/assets/colab-badge.svg\" alt=\"Open In Colab\"/></a>"
      ]
    },
    {
      "cell_type": "code",
      "execution_count": 7,
      "metadata": {
        "colab": {
          "base_uri": "https://localhost:8080/"
        },
        "id": "UtqMxb1PECSA",
        "outputId": "c09db871-ed4d-49e0-cf14-00cf30f77838"
      },
      "outputs": [
        {
          "name": "stdout",
          "output_type": "stream",
          "text": [
            "enter your marks50\n"
          ]
        }
      ],
      "source": [
        "x=int(input(\"enter your marks\"))"
      ]
    },
    {
      "cell_type": "code",
      "source": [
        "if x>50 :\n",
        "  print(\"You have passed the exam\")\n",
        "if x<50 :\n",
        "  print(\"You have failed\")  \n",
        "if x==50 :\n",
        "  print(\"Just Pass\")  "
      ],
      "metadata": {
        "colab": {
          "base_uri": "https://localhost:8080/"
        },
        "id": "LZUh4cB7EfCv",
        "outputId": "c29b7e94-a89b-4c69-8347-c1a0d8429e26"
      },
      "execution_count": 12,
      "outputs": [
        {
          "output_type": "stream",
          "name": "stdout",
          "text": [
            "Just Pass\n"
          ]
        }
      ]
    },
    {
      "cell_type": "code",
      "source": [
        "x=int(input(\"Enter Your Salary\"))\n"
      ],
      "metadata": {
        "colab": {
          "base_uri": "https://localhost:8080/"
        },
        "id": "boieuyriE7BD",
        "outputId": "9da6bedc-ab6e-47d3-df12-3734cf13cf67"
      },
      "execution_count": 13,
      "outputs": [
        {
          "name": "stdout",
          "output_type": "stream",
          "text": [
            "Enter Your Salary270000\n"
          ]
        }
      ]
    },
    {
      "cell_type": "code",
      "source": [
        "if x>250000 :\n",
        "  print(\"You're Taxable\")  \n",
        "if x<250000 :\n",
        "  print(\"You're not Taxable\")  "
      ],
      "metadata": {
        "colab": {
          "base_uri": "https://localhost:8080/"
        },
        "id": "OdCkAlEHE7-A",
        "outputId": "cb0e354b-c4bc-4910-bdc1-e8ca802c826d"
      },
      "execution_count": 14,
      "outputs": [
        {
          "output_type": "stream",
          "name": "stdout",
          "text": [
            "You're Taxable\n"
          ]
        }
      ]
    },
    {
      "cell_type": "code",
      "source": [
        "x=int(input(\"Enter salary\"))"
      ],
      "metadata": {
        "colab": {
          "base_uri": "https://localhost:8080/"
        },
        "id": "XTY7RfdAHnbq",
        "outputId": "8aab1584-94ed-46f3-c62c-b7655e455ff8"
      },
      "execution_count": 35,
      "outputs": [
        {
          "name": "stdout",
          "output_type": "stream",
          "text": [
            "Enter salary300000\n"
          ]
        }
      ]
    },
    {
      "cell_type": "code",
      "source": [
        "if x>250000 :\n",
        "  print(\"your Taxable\")\n",
        "  tax=x-250000*10/100\n",
        "if x<250000 :\n",
        "  print(\"your not taxable\")\n",
        "  \n",
        " "
      ],
      "metadata": {
        "colab": {
          "base_uri": "https://localhost:8080/"
        },
        "id": "rlcjVxj3Is4S",
        "outputId": "781b3604-5c97-4448-e461-cea635baf76e"
      },
      "execution_count": 36,
      "outputs": [
        {
          "output_type": "stream",
          "name": "stdout",
          "text": [
            "your Taxable\n"
          ]
        }
      ]
    },
    {
      "cell_type": "code",
      "source": [
        "tax"
      ],
      "metadata": {
        "colab": {
          "base_uri": "https://localhost:8080/"
        },
        "id": "utLYaPCbI6Cu",
        "outputId": "2b9a1ba6-64b0-4960-81a2-198d30323527"
      },
      "execution_count": 37,
      "outputs": [
        {
          "output_type": "execute_result",
          "data": {
            "text/plain": [
              "275000.0"
            ]
          },
          "metadata": {},
          "execution_count": 37
        }
      ]
    },
    {
      "cell_type": "code",
      "source": [
        "if x>250000 and x<500000 :\n",
        "  print(\"10% tax\")\n",
        "  y=x-250000\n",
        "  print(y*10/100)\n",
        "if x>500000 :\n",
        "  print(\"20% tax\")\n",
        "  z=x-500000 \n",
        "  print(z*20/100)"
      ],
      "metadata": {
        "colab": {
          "base_uri": "https://localhost:8080/"
        },
        "id": "_3Zogxg5JpTy",
        "outputId": "f713b801-382b-453e-906c-a3a293ecca11"
      },
      "execution_count": 42,
      "outputs": [
        {
          "output_type": "stream",
          "name": "stdout",
          "text": [
            "10% tax\n",
            "5000.0\n"
          ]
        }
      ]
    },
    {
      "cell_type": "code",
      "source": [
        "x=int(input(\"Enter your Salary\"))\n",
        "if x<=250000 :\n",
        "  print(\"NO tax\")\n",
        "if x<=500000 and x>250000 :\n",
        "  s=x-250000\n",
        "  print(\"Taxable\")\n",
        "  print(s*5/100)\n",
        "if x<=750000 and x>500000:\n",
        "  s=x-500000\n",
        "  j=500000-250000*5/100\n",
        "  print(\"Taxable\")\n",
        "  print(s*10/100+j)\n",
        "if x<=100000 and x>750000:\n",
        "  s=x-750000\n",
        "  h=750000-500000*10/100\n",
        "  j=500000-250000*5/100\n",
        "  print(\"Taxable\")\n",
        "  print(s*15/100+h+j)\n",
        "if x<1250000 and x>1000000:\n",
        "  s=x-100000\n",
        "  g=1000000-750000*15/100\n",
        "  h=750000-500000*10/100\n",
        "  j=500000-250000*5/100\n",
        "  print(\"Taxable\")\n",
        "  print(s*20/100+g+h+j)\n",
        "if x<1500000 and x>1250000:\n",
        "  s=x-1250000\n",
        "  f=1250000-1000000*20/100\n",
        "  g=1000000-750000*15/100\n",
        "  h=750000-500000*10/100\n",
        "  j=500000-250000*5/100\n",
        "  print(\"Taxable\")\n",
        "  print(s*25/100+f+g+h+j) \n",
        "if x>1500000 :\n",
        "  s=x-1500000\n",
        "  d=1500000-1250000*25/100\n",
        "  f=1250000-1000000*20/100\n",
        "  g=1000000-750000*15/100\n",
        "  h=750000-500000*10/100\n",
        "  j=500000-250000*5/100\n",
        "  print(\"Taxable\")\n",
        "  print(s*30/100+d+f+g+h+j)   \n",
        "\n",
        " "
      ],
      "metadata": {
        "colab": {
          "base_uri": "https://localhost:8080/"
        },
        "id": "xqhNyAFRLiuO",
        "outputId": "02e66220-cda8-47f7-c5fe-b8339053d05a"
      },
      "execution_count": 66,
      "outputs": [
        {
          "output_type": "stream",
          "name": "stdout",
          "text": [
            "Enter your Salary1100000\n",
            "Taxable\n",
            "2275000.0\n"
          ]
        }
      ]
    },
    {
      "cell_type": "code",
      "source": [],
      "metadata": {
        "id": "thM6XlVoL7tD"
      },
      "execution_count": 66,
      "outputs": []
    }
  ]
}